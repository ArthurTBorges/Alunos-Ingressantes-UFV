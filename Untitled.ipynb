{
 "cells": [
  {
   "cell_type": "code",
   "execution_count": 1,
   "id": "5fabb527",
   "metadata": {},
   "outputs": [
    {
     "name": "stderr",
     "output_type": "stream",
     "text": [
      "2024-05-09 15:46:17.548 \n",
      "  \u001b[33m\u001b[1mWarning:\u001b[0m to view this Streamlit app on a browser, run it with the following\n",
      "  command:\n",
      "\n",
      "    streamlit run C:\\Users\\Alexandre Rocha\\anaconda3\\Lib\\site-packages\\ipykernel_launcher.py [ARGUMENTS]\n",
      "2024-05-09 15:46:17.559 No runtime found, using MemoryCacheStorageManager\n",
      "2024-05-09 15:46:17.563 Session state does not function when running a script without `streamlit run`\n",
      "2024-05-09 15:46:17.578 No runtime found, using MemoryCacheStorageManager\n"
     ]
    }
   ],
   "source": [
    "import streamlit as st\n",
    "import pandas as pd\n",
    "\n",
    "st.set_page_config(page_title=\"Meu Site Streamlit\")\n",
    "\n",
    "with st.container():\n",
    "    st.subheader(\"Meu primeiro site com o Streamlit\")\n",
    "    st.title(\"Dashboard de Contratos\")\n",
    "    st.write(\"Informações sobre os contratos fechados pela Hash&Co ao longo de maio\")\n",
    "    st.write(\"Quer aprender Python? [Clique aqui](https://www.hashtagtreinamentos.com/curso-python)\")\n",
    "\n",
    "\n",
    "@st.cache_data\n",
    "def carregar_dados():\n",
    "    tabela = pd.read_csv(\"resultados.csv\")\n",
    "    return tabela\n",
    "\n",
    "with st.container():\n",
    "    st.write(\"---\")\n",
    "    qtde_dias = st.selectbox(\"Selecione o período\", [\"7D\", \"15D\", \"21D\", \"30D\"])\n",
    "    num_dias = int(qtde_dias.replace(\"D\", \"\"))\n",
    "    dados = carregar_dados()\n",
    "    dados = dados[-num_dias:]\n",
    "    st.area_chart(dados, x=\"Data\", y=\"Contratos\")"
   ]
  },
  {
   "cell_type": "code",
   "execution_count": null,
   "id": "9d5f0d55",
   "metadata": {},
   "outputs": [],
   "source": []
  }
 ],
 "metadata": {
  "kernelspec": {
   "display_name": "Python 3 (ipykernel)",
   "language": "python",
   "name": "python3"
  },
  "language_info": {
   "codemirror_mode": {
    "name": "ipython",
    "version": 3
   },
   "file_extension": ".py",
   "mimetype": "text/x-python",
   "name": "python",
   "nbconvert_exporter": "python",
   "pygments_lexer": "ipython3",
   "version": "3.11.4"
  }
 },
 "nbformat": 4,
 "nbformat_minor": 5
}
